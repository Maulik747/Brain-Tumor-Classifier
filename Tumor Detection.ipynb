{
 "cells": [
  {
   "cell_type": "code",
   "execution_count": 21,
   "metadata": {},
   "outputs": [],
   "source": [
    "from keras.layers import Dense,Lambda,Flatten,InputLayer\n",
    "from keras.models import Model\n",
    "# from keras.applications.vgg19 import VGG19\n",
    "# from keras.applications.vgg16 import preprocess_input\n",
    "from keras.preprocessing import image\n",
    "from keras.preprocessing.image import ImageDataGenerator\n",
    "from keras.models import Sequential\n",
    "import numpy as np\n",
    "from glob import glob\n",
    "import matplotlib.pyplot as plt\n"
   ]
  },
  {
   "cell_type": "code",
   "execution_count": 22,
   "metadata": {},
   "outputs": [],
   "source": [
    "IMAGE_SIZE=[128,128]\n",
    "train_path=\"./Training/\"\n",
    "test_path=\"./Testing/\"\n",
    "\n",
    "# vgg = VGG19(input_shape=IMAGE_SIZE + [3], weights='imagenet', include_top=False)\n",
    "\n",
    "# for layer in vgg.layers:\n",
    "#     layer.trainable=False\n",
    "\n",
    "folders=glob(\"./Training/*\")\n",
    "\n",
    "# x=Flatten()(vgg.output)\n",
    "# prediction=Dense(len(folders),activation=\"softmax\")(x)\n",
    "\n",
    "# model = Model(inputs=vgg.input, outputs=prediction)            "
   ]
  },
  {
   "cell_type": "code",
   "execution_count": 23,
   "metadata": {},
   "outputs": [],
   "source": [
    "import tensorflow as tf\n",
    "\n",
    "model = tf.keras.models.Sequential([\n",
    "    # Note the input shape is the desired size of the image 150x150 with 3 bytes color\n",
    "    tf.keras.layers.Conv2D(32, (2,2), activation='relu', input_shape=(128, 128, 3)),\n",
    "    tf.keras.layers.Conv2D(32, (3,3), activation='relu'),\n",
    "    tf.keras.layers.MaxPooling2D(2,2),\n",
    "    tf.keras.layers.Conv2D(64, (3,3), activation='relu'),\n",
    "    tf.keras.layers.MaxPooling2D(2,2), \n",
    "    tf.keras.layers.Conv2D(128, (3,3), activation='relu'), \n",
    "    tf.keras.layers.MaxPooling2D(2,2),\n",
    "    # Flatten the results to feed into a DNN\n",
    "    tf.keras.layers.Flatten(), \n",
    "    # 512 neuron hidden layer\n",
    "    tf.keras.layers.Dense(512, activation='relu'), \n",
    "    tf.keras.layers.Dropout(.4),\n",
    "    tf.keras.layers.Dense(len(folders), activation='softmax')  \n",
    "])"
   ]
  },
  {
   "cell_type": "code",
   "execution_count": 24,
   "metadata": {},
   "outputs": [],
   "source": [
    "model.compile(\n",
    "  loss='categorical_crossentropy',\n",
    "  optimizer='adam',\n",
    "  metrics=['accuracy']\n",
    ")"
   ]
  },
  {
   "cell_type": "code",
   "execution_count": 25,
   "metadata": {},
   "outputs": [
    {
     "name": "stdout",
     "output_type": "stream",
     "text": [
      "Found 2870 images belonging to 4 classes.\n",
      "Found 394 images belonging to 4 classes.\n"
     ]
    }
   ],
   "source": [
    "from keras.preprocessing.image import ImageDataGenerator\n",
    "\n",
    "train_datagen = ImageDataGenerator(rescale = 1./255)\n",
    "                                #    shear_range = 0.2,\n",
    "                                #    zoom_range = 0.2,\n",
    "                                #    horizontal_flip = True)\n",
    "\n",
    "test_datagen = ImageDataGenerator(rescale = 1./255)\n",
    "\n",
    "training_set = train_datagen.flow_from_directory('./Training/',\n",
    "                                                 target_size = (128, 128),\n",
    "                                                 batch_size = 50    ,\n",
    "                                                 class_mode = 'categorical')\n",
    "\n",
    "test_set = test_datagen.flow_from_directory('./Testing/',\n",
    "                                            target_size = (128, 128),\n",
    "                                            batch_size = 50,\n",
    "                                            class_mode = 'categorical')"
   ]
  },
  {
   "cell_type": "code",
   "execution_count": 19,
   "metadata": {},
   "outputs": [
    {
     "name": "stdout",
     "output_type": "stream",
     "text": [
      "{'glioma_tumor': 0, 'meningioma_tumor': 1, 'no_tumor': 2, 'pituitary_tumor': 3}\n"
     ]
    }
   ],
   "source": [
    "print(training_set.class_indices)"
   ]
  },
  {
   "cell_type": "code",
   "execution_count": 26,
   "metadata": {},
   "outputs": [
    {
     "name": "stdout",
     "output_type": "stream",
     "text": [
      "Epoch 1/10\n",
      "58/58 [==============================] - 95s 2s/step - loss: 1.1876 - accuracy: 0.4694 - val_loss: 2.0067 - val_accuracy: 0.3680\n",
      "Epoch 2/10\n",
      "58/58 [==============================] - 87s 1s/step - loss: 0.6190 - accuracy: 0.7357 - val_loss: 2.1317 - val_accuracy: 0.5228\n",
      "Epoch 3/10\n",
      "58/58 [==============================] - 88s 2s/step - loss: 0.4284 - accuracy: 0.8291 - val_loss: 2.5059 - val_accuracy: 0.5533\n",
      "Epoch 4/10\n",
      "58/58 [==============================] - 84s 1s/step - loss: 0.3097 - accuracy: 0.8942 - val_loss: 2.6253 - val_accuracy: 0.5711\n",
      "Epoch 5/10\n",
      "58/58 [==============================] - 94s 2s/step - loss: 0.2029 - accuracy: 0.9185 - val_loss: 3.1524 - val_accuracy: 0.6904\n",
      "Epoch 6/10\n",
      "58/58 [==============================] - 93s 2s/step - loss: 0.1402 - accuracy: 0.9443 - val_loss: 3.1042 - val_accuracy: 0.7360\n",
      "Epoch 7/10\n",
      "58/58 [==============================] - 90s 2s/step - loss: 0.1045 - accuracy: 0.9594 - val_loss: 4.2398 - val_accuracy: 0.7132\n",
      "Epoch 8/10\n",
      "58/58 [==============================] - 84s 1s/step - loss: 0.0632 - accuracy: 0.9833 - val_loss: 3.0537 - val_accuracy: 0.7665\n",
      "Epoch 9/10\n",
      "58/58 [==============================] - 85s 1s/step - loss: 0.0454 - accuracy: 0.9841 - val_loss: 4.5659 - val_accuracy: 0.6726\n",
      "Epoch 10/10\n",
      "58/58 [==============================] - 100s 2s/step - loss: 0.0446 - accuracy: 0.9839 - val_loss: 4.9495 - val_accuracy: 0.7056\n"
     ]
    }
   ],
   "source": [
    "r = model.fit(\n",
    "training_set,\n",
    "epochs=10,\n",
    "validation_data=test_set,\n",
    "steps_per_epoch=len(training_set),\n",
    "validation_steps=len(test_set)\n",
    ")"
   ]
  },
  {
   "cell_type": "code",
   "execution_count": 27,
   "metadata": {},
   "outputs": [],
   "source": [
    "model.save(\"brain_tumor_classifier.h5\")"
   ]
  }
 ],
 "metadata": {
  "kernelspec": {
   "display_name": "Python 3.6.12 ('tensor')",
   "language": "python",
   "name": "python3"
  },
  "language_info": {
   "codemirror_mode": {
    "name": "ipython",
    "version": 3
   },
   "file_extension": ".py",
   "mimetype": "text/x-python",
   "name": "python",
   "nbconvert_exporter": "python",
   "pygments_lexer": "ipython3",
   "version": "3.6.12"
  },
  "vscode": {
   "interpreter": {
    "hash": "7b663230413cf4c7f4c9c01d68fb5c169b80411644e27967ae6e24c53a0c10e8"
   }
  }
 },
 "nbformat": 4,
 "nbformat_minor": 4
}
